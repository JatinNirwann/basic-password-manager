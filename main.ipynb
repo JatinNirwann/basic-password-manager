{
 "cells": [
  {
   "cell_type": "code",
   "execution_count": null,
   "metadata": {},
   "outputs": [],
   "source": [
    "from cryptography.fernet import Fernet\n",
    "import os\n",
    "\n",
    "def write_key():\n",
    "    key = Fernet.generate_key()\n",
    "    with open(\"key.key\", \"wb\") as key_file:\n",
    "        key_file.write(key)\n",
    "\n",
    "def load_key():\n",
    "    return open(\"key.key\", \"rb\").read()\n",
    "\n",
    "\n",
    "if not os.path.exists(\"key.key\"):\n",
    "    write_key()\n",
    "\n",
    "key = load_key()\n",
    "fer = Fernet(key)\n",
    "\n",
    "\n",
    "def view():\n",
    "    with open('passwords.txt', 'r') as f:\n",
    "        for line in f.readlines():\n",
    "            data = line.rstrip()\n",
    "            account_name, user, passw = data.split(\"|\")\n",
    "            print(f\"Account: {account_name}\\nUser: {user}\\nPassword: {fer.decrypt(passw.encode()).decode()}\\n\")\n",
    "\n",
    "\n",
    "def add():\n",
    "    account_name = input(\"Account name (website/app): \")\n",
    "    user_id = input(\"Account ID: \")\n",
    "    pwd = input(\"Password: \")\n",
    "\n",
    "    with open('passwords.txt', 'a') as f:\n",
    "        f.write(account_name + \"|\" + user_id + \"|\" + fer.encrypt(pwd.encode()).decode() + \"\\n\")\n",
    "\n",
    "\n",
    "while True:\n",
    "    mode = input(\"Add a new password (add) \\n View existing ones (view) \\n Quit (q) \\n\\n\")\n",
    "    \n",
    "    if mode == \"q\":\n",
    "        break\n",
    "    elif mode == \"view\":\n",
    "        view()\n",
    "    elif mode == \"add\":\n",
    "        add()\n",
    "    else:\n",
    "        print(\"Invalid input. Please try again.\")"
   ]
  }
 ],
 "metadata": {
  "kernelspec": {
   "display_name": "base",
   "language": "python",
   "name": "python3"
  },
  "language_info": {
   "codemirror_mode": {
    "name": "ipython",
    "version": 3
   },
   "file_extension": ".py",
   "mimetype": "text/x-python",
   "name": "python",
   "nbconvert_exporter": "python",
   "pygments_lexer": "ipython3",
   "version": "3.12.4"
  }
 },
 "nbformat": 4,
 "nbformat_minor": 2
}
